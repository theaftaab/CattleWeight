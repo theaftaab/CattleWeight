{
 "cells": [
  {
   "cell_type": "code",
   "execution_count": 1,
   "id": "initial_id",
   "metadata": {
    "collapsed": true,
    "ExecuteTime": {
     "end_time": "2024-06-28T13:49:01.829014Z",
     "start_time": "2024-06-28T13:48:43.837461Z"
    }
   },
   "outputs": [],
   "source": [
    "from CattleWeight.Cattle_inference import CattleInference\n",
    "import pandas as pd\n",
    "from sklearn.model_selection import train_test_split\n",
    "from sklearn.linear_model import LinearRegression\n",
    "from sklearn.metrics import r2_score, mean_squared_error\n",
    "data = pd.read_csv(\"CattleWeight/train_data.csv\")  # Replace with your data loading method\n",
    "\n",
    "# Define the features (independent variables) and target (dependent variable)\n",
    "features = [\"side_length_shoulderbone\", \"side_f_girth\", \"side_r_girth\", \"rear_width\", \"cow_pixels\",\n",
    "            \"sticker_pixels\"]\n",
    "target = \"weight\"\n",
    "\n",
    "# Split data into training and testing sets\n",
    "X_train, X_test, y_train, y_test = train_test_split(data[features], data[target], test_size=0.2, random_state=42)\n",
    "\n",
    "# Create the linear regression model\n",
    "model = LinearRegression()\n",
    "\n",
    "# Train the model on the training data\n",
    "model.fit(X_train, y_train)\n",
    "\n",
    "# Make predictions on the testing data\n",
    "y_pred = model.predict(X_test)"
   ]
  },
  {
   "cell_type": "code",
   "outputs": [],
   "source": [
    "model.save"
   ],
   "metadata": {
    "collapsed": false
   },
   "id": "b0b8da554ac422b"
  },
  {
   "cell_type": "code",
   "outputs": [
    {
     "data": {
      "text/plain": "['linear.pkl']"
     },
     "execution_count": 2,
     "metadata": {},
     "output_type": "execute_result"
    }
   ],
   "source": [
    "import joblib\n",
    "joblib_file = \"linear.pkl\"\n",
    "joblib.dump(model, joblib_file)"
   ],
   "metadata": {
    "collapsed": false,
    "ExecuteTime": {
     "end_time": "2024-06-28T13:56:12.451022Z",
     "start_time": "2024-06-28T13:56:12.360672Z"
    }
   },
   "id": "772fb48e29139243",
   "execution_count": 2
  },
  {
   "cell_type": "code",
   "outputs": [],
   "source": [
    "joblib_model = joblib.load('linear.pkl')"
   ],
   "metadata": {
    "collapsed": false,
    "ExecuteTime": {
     "end_time": "2024-06-28T13:56:55.803064Z",
     "start_time": "2024-06-28T13:56:55.771854Z"
    }
   },
   "id": "3db63c1d9e2cc1b2",
   "execution_count": 3
  },
  {
   "cell_type": "code",
   "outputs": [],
   "source": [
    "y_pred = joblib_model.predict(X_test)"
   ],
   "metadata": {
    "collapsed": false,
    "ExecuteTime": {
     "end_time": "2024-06-28T13:57:52.782735Z",
     "start_time": "2024-06-28T13:57:52.742896Z"
    }
   },
   "id": "810ceb6239d7091c",
   "execution_count": 4
  },
  {
   "cell_type": "code",
   "outputs": [],
   "source": [],
   "metadata": {
    "collapsed": false
   },
   "id": "16d0744cf6b27380"
  }
 ],
 "metadata": {
  "kernelspec": {
   "display_name": "Python 3",
   "language": "python",
   "name": "python3"
  },
  "language_info": {
   "codemirror_mode": {
    "name": "ipython",
    "version": 2
   },
   "file_extension": ".py",
   "mimetype": "text/x-python",
   "name": "python",
   "nbconvert_exporter": "python",
   "pygments_lexer": "ipython2",
   "version": "2.7.6"
  }
 },
 "nbformat": 4,
 "nbformat_minor": 5
}
